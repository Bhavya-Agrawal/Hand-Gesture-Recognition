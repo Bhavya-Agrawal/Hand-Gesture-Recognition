{
 "cells": [
  {
   "cell_type": "code",
   "execution_count": 1,
   "id": "5016df8d",
   "metadata": {},
   "outputs": [],
   "source": [
    "import tensorflow as tf\n",
    "import numpy as np\n",
    "import matplotlib.pyplot as plt"
   ]
  },
  {
   "cell_type": "markdown",
   "id": "1cd97547",
   "metadata": {},
   "source": [
    "## Prediction on Single Image & Plot with the predicted class"
   ]
  },
  {
   "cell_type": "code",
   "execution_count": 7,
   "id": "5fa3000c",
   "metadata": {},
   "outputs": [],
   "source": [
    "def prepare_test_image(image, img_shape = 224, scale = True):\n",
    "    # Step 1 : Read the image\n",
    "    test_img = tf.io.read_file(image)\n",
    "\n",
    "    #Step 2: Decode the image in tensor\n",
    "    test_img = tf.image.decode_image(test_img)\n",
    "\n",
    "    #Step 3: Resize the image:\n",
    "    test_img = tf.image.resize(test_img, size = [img_shape, img_shape])\n",
    "\n",
    "    # Step 4: Rescale the image:\n",
    "    if scale:\n",
    "        test_img = test_img/255.\n",
    "    else:\n",
    "        test_img\n",
    "\n",
    "    #Step 5: Convert into 4D\n",
    "    test_img = tf.expand_dims(test_img, axis=0)\n",
    "    \n",
    "    return test_img"
   ]
  },
  {
   "cell_type": "code",
   "execution_count": 26,
   "id": "fbef8e41",
   "metadata": {},
   "outputs": [],
   "source": [
    "def predict_and_plot_output_single_testimage (test_image, model, class_names):\n",
    "    \"\"\"\n",
    "    Preprocess the single test image\n",
    "    \n",
    "    Predict the output\n",
    "    \n",
    "    Finds out class name of the predicted output\n",
    "    \n",
    "    Plot the test image with predicted output class name\n",
    "    \"\"\"\n",
    "    # Step 1 : Load and preprocess the test image\n",
    "    testimage = prepare_test_image(test_image)\n",
    "\n",
    "    # Step 2 : Predict\n",
    "    prediction_output = model.predict(testimage)\n",
    "\n",
    "    # Step 3 : Find out the predicted class\n",
    "    if len(prediction_output[0]) > 1:\n",
    "        pred_class = class_names[tf.argmax(prediction_output[0])]\n",
    "    else:\n",
    "        pred_class = class_names[int(tf.round(prediction_output[0]))]\n",
    "        print(\"Class : \",pred_class)\n",
    "\n",
    "    # Step 4 : Visualize the test image + PREDICTED CLASS\n",
    "    plt.figure()\n",
    "    plt.imshow(tf.squeeze(testimage))\n",
    "    plt.title(f\" Predicted Class : {pred_class}\")\n",
    "    plt.axis = False"
   ]
  },
  {
   "cell_type": "markdown",
   "id": "9d449c5c",
   "metadata": {},
   "source": [
    "## Creating TensorBoard Callback\n",
    "\n",
    "#### For model comparisions on Tensorboard"
   ]
  },
  {
   "cell_type": "code",
   "execution_count": 32,
   "id": "5298f544",
   "metadata": {},
   "outputs": [],
   "source": [
    "import datetime\n",
    "\n",
    "def create_tensorboard_callback(dir_name, experiment_name):\n",
    "    log_dir = dir_name + \"/\" + experiment_name + \"/\" + datetime.datetime.now().strftime(\"%Y%m%d-%H%M%S\")\n",
    "    tensorboard_callback = tf.keras.callbacks.TensorBoard(log_dir=log_dir)\n",
    "    print(f\"Saving TensorBoard log files to: {log_dir}\")\n",
    "    return tensorboard_callback\n",
    "    \n",
    "    \"\"\"\n",
    "    Saves the log files to be used in tensorboard\n",
    "    \n",
    "    1 arguments needs to be added while fitting the model to enable this callback\n",
    "    \n",
    "    \n",
    "    callbacks=[create_tensorboard_callback(dir_name=\"tensorflow_hub\",experiment_name=\"resnet50V2\")]\n",
    "    \"\"\"\n",
    "    \n",
    "checkpoint_path = \"/content/custom_images_1to4/model_checkpoints/cp.ckpt\"\n",
    "model_checkpoint = tf.keras.callbacks.ModelCheckpoint(checkpoint_path,\n",
    "                                                      montior=\"val_acc\",\n",
    "                                                      save_best_only=True,\n",
    "                                                      save_weights_only=True,\n",
    "                                                      verbose=0) # don't print whether or not model is being saved\n",
    "    \n",
    "  "
   ]
  },
  {
   "cell_type": "markdown",
   "id": "3d454448",
   "metadata": {},
   "source": [
    "## Prepare Transfer Learning model + adjust o/p layer = no of classes"
   ]
  },
  {
   "cell_type": "code",
   "execution_count": 21,
   "id": "f4d959bf",
   "metadata": {},
   "outputs": [],
   "source": [
    "def prepare_transfer_learning_model(model_url, num_classes=10):\n",
    "    feature_extractor_layer = hub.KerasLayer(model_url,\n",
    "                                           trainable=False, # freeze the already learned patterns\n",
    "                                           name=\"feature_extraction_layer\",\n",
    "                                           input_shape=(224,224)+(3,)) \n",
    "    model = tf.keras.Sequential([\n",
    "    feature_extractor_layer,\n",
    "    tf.keras.layers.Dense(num_classes, activation=\"softmax\", name=\"output_layer\")\n",
    "  ])\n",
    "    \n",
    "    return model  "
   ]
  },
  {
   "cell_type": "markdown",
   "id": "b0f15acf",
   "metadata": {},
   "source": [
    "## Plotting Evaluation Curves - Accuracy & Loss (For Training & Validation data)"
   ]
  },
  {
   "cell_type": "code",
   "execution_count": 30,
   "id": "85bbfbe5",
   "metadata": {},
   "outputs": [],
   "source": [
    "def plot_evaluation_curves(history):\n",
    "    \"\"\"\n",
    "    For Training & Validation Data\n",
    "    \n",
    "    Training Loss vs Validation loss\n",
    "    \n",
    "    Training Accuracy vs Validation Loss\n",
    "    \"\"\"\n",
    "    loss = resnet_history.history['loss']\n",
    "    val_loss = resnet_history.history['val_loss']\n",
    "    \n",
    "    accuracy = resnet_history.history['accuracy']\n",
    "    val_accuracy = resnet_history.history['val_accuracy']\n",
    "    \n",
    "    epochs = range(len(resnet_history.history[\"loss\"]))\n",
    "    \n",
    "    ## Plotting loss curves\n",
    "#     plt.figure()\n",
    "    plt.plot(epochs, loss, label = \"Training Loss\")\n",
    "    plt.plot(epochs, val_loss, label = \"Validation loss\")\n",
    "    plt.title('Loss curves')\n",
    "    plt.xlabel('Epochs')\n",
    "    plt.legend()\n",
    "    \n",
    "    ## Plotting Accuracy curves\n",
    "    plt.figure()   \n",
    "    plt.plot(epochs, accuracy, label = 'Training Accuracy')\n",
    "    plt.plot(epochs, val_accuracy, label = 'Validation Accuracy')\n",
    "    plt.title(\"Accuracy Curves\")\n",
    "    plt.xlabel(\"Epochs\")\n",
    "    plt.legend()"
   ]
  },
  {
   "cell_type": "markdown",
   "id": "9e00f759",
   "metadata": {},
   "source": [
    "## Predicting & Plotting Evaluation Curves - Accuracy & Loss (For Test data)"
   ]
  },
  {
   "cell_type": "code",
   "execution_count": null,
   "id": "4d19d1ce",
   "metadata": {},
   "outputs": [],
   "source": [
    "# def predict_and_plot_testdata(model, test_data):\n",
    "#     \"\"\"\n",
    "#     For complete testdataset\n",
    "    \n",
    "#     Loss()\n",
    "#     \"\"\"\n",
    "#     model.evaluate(test_data)\n",
    "#     df = pd.DataFrame(resnet_history.history)\n",
    "#     df.plot(figsize=(10, 7))"
   ]
  }
 ],
 "metadata": {
  "kernelspec": {
   "display_name": "Python 3 (ipykernel)",
   "language": "python",
   "name": "python3"
  },
  "language_info": {
   "codemirror_mode": {
    "name": "ipython",
    "version": 3
   },
   "file_extension": ".py",
   "mimetype": "text/x-python",
   "name": "python",
   "nbconvert_exporter": "python",
   "pygments_lexer": "ipython3",
   "version": "3.9.7"
  }
 },
 "nbformat": 4,
 "nbformat_minor": 5
}
